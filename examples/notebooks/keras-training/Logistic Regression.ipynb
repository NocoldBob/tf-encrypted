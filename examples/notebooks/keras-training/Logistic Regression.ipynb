{
 "cells": [
  {
   "cell_type": "code",
   "execution_count": 1,
   "metadata": {},
   "outputs": [],
   "source": [
    "import tensorflow as tf\n",
    "\n",
    "import tf_encrypted as tfe\n",
    "from tf_encrypted.keras.losses import BinaryCrossentropy\n",
    "from tf_encrypted.keras.optimizers import SGD\n",
    "\n",
    "from .common import DataOwner\n",
    "from ..utils import print_in_notebook"
   ]
  },
  {
   "cell_type": "code",
   "execution_count": 2,
   "metadata": {},
   "outputs": [],
   "source": [
    "num_features = 10\n",
    "training_set_size = 2000\n",
    "test_set_size = 100\n",
    "batch_size = 100\n",
    "steps_per_epoch = (training_set_size // batch_size)\n",
    "epochs = 20"
   ]
  },
  {
   "cell_type": "code",
   "execution_count": 3,
   "metadata": {},
   "outputs": [
    {
     "name": "stdout",
     "output_type": "stream",
     "text": [
      "WARNING:tensorflow:From /usr/local/miniconda3/envs/tfe-dev/lib/python3.5/site-packages/tensorflow/python/data/ops/dataset_ops.py:1419: colocate_with (from tensorflow.python.framework.ops) is deprecated and will be removed in a future version.\n",
      "Instructions for updating:\n",
      "Colocations handled automatically by placer.\n"
     ]
    },
    {
     "name": "stderr",
     "output_type": "stream",
     "text": [
      "WARNING:tensorflow:From /usr/local/miniconda3/envs/tfe-dev/lib/python3.5/site-packages/tensorflow/python/data/ops/dataset_ops.py:1419: colocate_with (from tensorflow.python.framework.ops) is deprecated and will be removed in a future version.\n",
      "Instructions for updating:\n",
      "Colocations handled automatically by placer.\n"
     ]
    }
   ],
   "source": [
    "data_owner = DataOwner('data-owner',\n",
    "                       num_features,\n",
    "                       training_set_size,\n",
    "                       test_set_size,\n",
    "                       batch_size)\n",
    "\n",
    "x_train, y_train = data_owner.provide_training_data()\n",
    "x_test, y_test = data_owner.provide_testing_data()"
   ]
  },
  {
   "cell_type": "code",
   "execution_count": 4,
   "metadata": {},
   "outputs": [],
   "source": [
    "def print_accuracy(y_pred, y_test):\n",
    "    correct_prediction = tf.equal(tf.round(y_pred), y_test)\n",
    "    accuracy = tf.reduce_mean(tf.cast(correct_prediction, tf.float32))\n",
    "    \n",
    "    \n",
    "    print(\"Test Accuracy\", sess.run(accuracy, tag='evaluate'))\n",
    "    \n",
    "\n",
    "def evaluate(model, sess, x_test, y_test):\n",
    "    y_pred = model(x_test)\n",
    "    \n",
    "    \n",
    "    \n",
    "    y_hat_np, y_test_np = sess.run([y_hat.reveal(), y_test.reveal()])\n",
    "    y_hat_tf = tf.convert_to_tensor(y_hat_np)\n",
    "    y_test_tf = tf.convert_to_tensor(y_test_np)\n",
    "    \n",
    "    correct_prediction = tf.equal(tf.round(y_hat_tf), y_test_tf)\n",
    "    accuracy = tf.reduce_mean(tf.cast(correct_prediction, tf.float32))\n",
    "    \n",
    "    print(\"Test Accuracy\", sess.run(accuracy, tag='evaluate'))"
   ]
  },
  {
   "cell_type": "markdown",
   "metadata": {},
   "source": [
    "## Define Model"
   ]
  },
  {
   "cell_type": "code",
   "execution_count": 5,
   "metadata": {},
   "outputs": [],
   "source": [
    "model = tfe.keras.Sequential()\n",
    "model.add(tfe.keras.layers.Dense(1, batch_input_shape=[batch_size, num_features]))\n",
    "model.add(tfe.keras.layers.Activation('sigmoid'))"
   ]
  },
  {
   "cell_type": "code",
   "execution_count": 6,
   "metadata": {
    "scrolled": false
   },
   "outputs": [
    {
     "name": "stderr",
     "output_type": "stream",
     "text": [
      "INFO:tf_encrypted:Players: ['server0', 'server1', 'server2', 'data-owner']\n"
     ]
    },
    {
     "name": "stdout",
     "output_type": "stream",
     "text": [
      "Epoch 1/20\n",
      "2000/2000 [==============================] - 5s 2ms/step - loss: 0.6098\n",
      "Epoch 2/20\n",
      "2000/2000 [==============================] - 0s 179us/step - loss: 0.5707\n",
      "Epoch 3/20\n",
      "2000/2000 [==============================] - 0s 185us/step - loss: 0.5379\n",
      "Epoch 4/20\n",
      "2000/2000 [==============================] - 0s 164us/step - loss: 0.5165\n",
      "Epoch 5/20\n",
      "2000/2000 [==============================] - 0s 234us/step - loss: 0.4972\n",
      "Epoch 6/20\n",
      "2000/2000 [==============================] - 0s 238us/step - loss: 0.4708\n",
      "Epoch 7/20\n",
      "2000/2000 [==============================] - 0s 177us/step - loss: 0.4567\n",
      "Epoch 8/20\n",
      "2000/2000 [==============================] - 0s 173us/step - loss: 0.4482\n",
      "Epoch 9/20\n",
      "2000/2000 [==============================] - 0s 183us/step - loss: 0.4301\n",
      "Epoch 10/20\n",
      "2000/2000 [==============================] - 0s 191us/step - loss: 0.4123\n",
      "Epoch 11/20\n",
      "2000/2000 [==============================] - 0s 250us/step - loss: 0.4042\n",
      "Epoch 12/20\n",
      "2000/2000 [==============================] - 0s 241us/step - loss: 0.3979\n",
      "Epoch 13/20\n",
      "2000/2000 [==============================] - 0s 190us/step - loss: 0.3885\n",
      "Epoch 14/20\n",
      "2000/2000 [==============================] - 0s 179us/step - loss: 0.3824\n",
      "Epoch 15/20\n",
      "2000/2000 [==============================] - 1s 296us/step - loss: 0.3676\n",
      "Epoch 16/20\n",
      "2000/2000 [==============================] - 0s 161us/step - loss: 0.3692\n",
      "Epoch 17/20\n",
      "2000/2000 [==============================] - 0s 186us/step - loss: 0.3556\n",
      "Epoch 18/20\n",
      "2000/2000 [==============================] - 0s 198us/step - loss: 0.3446\n",
      "Epoch 19/20\n",
      "2000/2000 [==============================] - 0s 218us/step - loss: 0.3471\n",
      "Epoch 20/20\n",
      "2000/2000 [==============================] - 0s 180us/step - loss: 0.3373\n",
      "Test Accuracy 0.97\n"
     ]
    }
   ],
   "source": [
    "with tfe.Session() as sess:\n",
    "    sess.run([tf.global_variables_initializer(), \n",
    "              data_owner.initializer], tag='init')\n",
    "    \n",
    "    model.compile(optimizer=SGD(lr=0.01),\n",
    "                  loss=BinaryCrossentropy())\n",
    "\n",
    "    model.fit(x_train,\n",
    "              y_train,\n",
    "              epochs=epochs,\n",
    "              steps_per_epoch=steps_per_epoch)\n",
    "\n",
    "    evaluate(model, sess, x_test, y_test)"
   ]
  },
  {
   "cell_type": "code",
   "execution_count": null,
   "metadata": {},
   "outputs": [],
   "source": []
  }
 ],
 "metadata": {
  "kernelspec": {
   "display_name": "Python 3",
   "language": "python",
   "name": "python3"
  },
  "language_info": {
   "codemirror_mode": {
    "name": "ipython",
    "version": 3
   },
   "file_extension": ".py",
   "mimetype": "text/x-python",
   "name": "python",
   "nbconvert_exporter": "python",
   "pygments_lexer": "ipython3",
   "version": "3.5.6"
  }
 },
 "nbformat": 4,
 "nbformat_minor": 2
}
